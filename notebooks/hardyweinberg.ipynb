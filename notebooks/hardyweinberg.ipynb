{
 "cells": [
  {
   "cell_type": "code",
   "execution_count": 2,
   "id": "78b720cd-94eb-4358-9a6f-1c5fe37fbea8",
   "metadata": {},
   "outputs": [],
   "source": [
    "import numpy as np"
   ]
  },
  {
   "cell_type": "markdown",
   "id": "417085a0-9a16-4afa-bf1c-e47c4960e863",
   "metadata": {},
   "source": [
    "# Redoing hardy weinberg in a PPL"
   ]
  },
  {
   "cell_type": "markdown",
   "id": "1625da66-b839-4097-a061-986d39c4466a",
   "metadata": {},
   "source": [
    "## First, redo the hard code"
   ]
  },
  {
   "cell_type": "code",
   "execution_count": null,
   "id": "ed146af2-8e31-40f3-9cf7-66f22f38fd61",
   "metadata": {},
   "outputs": [],
   "source": [
    "def gibbs_hw(data, prior_params=[1,1,1,1], initial_values, niters):\n",
    "    obs = [\"AA\"]*data[0] + [\"Aa\"]*data[1] + [\"aa\"]*data[2]\n",
    "    \n",
    "    f = np.zeros((niters))\n",
    "    r = np.zeros_like(f)\n",
    "    f[0] = initial_values['f']\n",
    "    r[0] = initial_values['r']\n",
    "    \n",
    "    for i in range(1, niters):\n",
    "        # Calculate p(Z|f,p) for each case of gi:\n",
    "        "
   ]
  },
  {
   "cell_type": "code",
   "execution_count": 1,
   "id": "57255e40-eb0b-457e-b658-c2f7387db706",
   "metadata": {},
   "outputs": [
    {
     "data": {
      "text/plain": [
       "['AA', 'Aa', 'Aa', 'aa', 'aa', 'aa']"
      ]
     },
     "execution_count": 1,
     "metadata": {},
     "output_type": "execute_result"
    }
   ],
   "source": []
  },
  {
   "cell_type": "markdown",
   "id": "fb4c9406-96e8-4693-9b93-f21a2ff47565",
   "metadata": {},
   "source": [
    "## Sike, let's start with something basic\n",
    "Actually it might be hard to code the genetics"
   ]
  },
  {
   "cell_type": "code",
   "execution_count": null,
   "id": "5f98df5c-5f88-44fd-91de-d557d77d3e1b",
   "metadata": {},
   "outputs": [],
   "source": []
  }
 ],
 "metadata": {
  "kernelspec": {
   "display_name": "Python 3 (ipykernel)",
   "language": "python",
   "name": "python3"
  },
  "language_info": {
   "codemirror_mode": {
    "name": "ipython",
    "version": 3
   },
   "file_extension": ".py",
   "mimetype": "text/x-python",
   "name": "python",
   "nbconvert_exporter": "python",
   "pygments_lexer": "ipython3",
   "version": "3.9.7"
  }
 },
 "nbformat": 4,
 "nbformat_minor": 5
}
